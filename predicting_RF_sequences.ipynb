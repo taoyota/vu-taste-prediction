{
 "cells": [
  {
   "cell_type": "code",
   "execution_count": 16,
   "id": "f79d01ab",
   "metadata": {},
   "outputs": [],
   "source": [
    "import pandas as pd\n",
    "from sklearn.ensemble import RandomForestClassifier\n",
    "from sklearn.model_selection import train_test_split\n",
    "from sklearn.metrics import classification_report, confusion_matrix\n",
    "from sklearn.preprocessing import StandardScaler\n",
    "\n",
    "df = pd.read_csv(\"identified_peptides_with_sequences.csv\")\n",
    "aa_list = list(\"ACDEFGHIKLMNPQRSTVWY\")"
   ]
  },
  {
   "cell_type": "code",
   "execution_count": 17,
   "id": "8bb22aa6",
   "metadata": {},
   "outputs": [],
   "source": [
    "def compute_aac(sequence):\n",
    "    length = len(sequence)\n",
    "    if length == 0:\n",
    "        return {aa: 0.0 for aa in aa_list}\n",
    "    return {aa: sequence.count(aa) / length for aa in aa_list}"
   ]
  },
  {
   "cell_type": "code",
   "execution_count": 18,
   "id": "b5afab98",
   "metadata": {},
   "outputs": [],
   "source": [
    "aac_df = df['sequence'].apply(compute_aac).apply(pd.Series)\n",
    "X_full = aac_df\n",
    "X_scaled = StandardScaler().fit_transform(X_full)"
   ]
  },
  {
   "cell_type": "code",
   "execution_count": 22,
   "id": "4e107954",
   "metadata": {},
   "outputs": [
    {
     "name": "stdout",
     "output_type": "stream",
     "text": [
      "=== Classifier A: Bitter vs Non-Bitter ===\n",
      "              precision    recall  f1-score   support\n",
      "\n",
      "  non-bitter       0.91      0.94      0.92       116\n",
      "      bitter       0.79      0.71      0.75        38\n",
      "\n",
      "    accuracy                           0.88       154\n",
      "   macro avg       0.85      0.83      0.84       154\n",
      "weighted avg       0.88      0.88      0.88       154\n",
      "\n"
     ]
    }
   ],
   "source": [
    "df_a = df[df['is_bitter'].isin([True, False])].copy()\n",
    "y_a = df_a['is_bitter'].astype(int)\n",
    "X_a = X_scaled[df_a.index]\n",
    "\n",
    "X_train_a, X_test_a, y_train_a, y_test_a = train_test_split(\n",
    "    X_a, y_a, test_size=0.2, random_state=42, stratify=y_a\n",
    ")\n",
    "\n",
    "clf_a = RandomForestClassifier(n_estimators=100, random_state=42)\n",
    "clf_a.fit(X_train_a, y_train_a)\n",
    "y_pred_a = clf_a.predict(X_test_a)\n",
    "\n",
    "print(\"=== Classifier A: Bitter vs Non-Bitter ===\")\n",
    "print(classification_report(\n",
    "    y_test_a, y_pred_a, target_names=[\"non-bitter\", \"bitter\"], digits=2\n",
    "))"
   ]
  },
  {
   "cell_type": "code",
   "execution_count": null,
   "id": "8143b7b1",
   "metadata": {},
   "outputs": [
    {
     "name": "stdout",
     "output_type": "stream",
     "text": [
      "\n",
      "=== Classifier B: Bitter vs Sweet (Only) ===\n",
      "              precision    recall  f1-score   support\n",
      "\n",
      "       sweet       0.92      0.96      0.94        82\n",
      "      bitter       0.91      0.82      0.86        38\n",
      "\n",
      "    accuracy                           0.92       120\n",
      "   macro avg       0.92      0.89      0.90       120\n",
      "weighted avg       0.92      0.92      0.92       120\n",
      "\n"
     ]
    }
   ],
   "source": [
    "df_b = df[df['is_bitter_vs_sweet'].isin([True, False])].copy()\n",
    "y_b = df_b['is_bitter_vs_sweet'].astype(int)\n",
    "X_b = X_scaled[df_b.index]\n",
    "\n",
    "X_train_b, X_test_b, y_train_b, y_test_b = train_test_split(\n",
    "    X_b, y_b, test_size=0.2, random_state=42, stratify=y_b\n",
    ")\n",
    "\n",
    "clf_b = RandomForestClassifier(n_estimators=100, random_state=42)\n",
    "clf_b.fit(X_train_b, y_train_b)\n",
    "y_pred_b = clf_b.predict(X_test_b)\n",
    "\n",
    "print(classification_report(\n",
    "    y_test_b, y_pred_b, target_names=[\"sweet\", \"bitter\"], digits=2\n",
    "))"
   ]
  }
 ],
 "metadata": {
  "kernelspec": {
   "display_name": "Python 3",
   "language": "python",
   "name": "python3"
  },
  "language_info": {
   "codemirror_mode": {
    "name": "ipython",
    "version": 3
   },
   "file_extension": ".py",
   "mimetype": "text/x-python",
   "name": "python",
   "nbconvert_exporter": "python",
   "pygments_lexer": "ipython3",
   "version": "3.8.10"
  }
 },
 "nbformat": 4,
 "nbformat_minor": 5
}

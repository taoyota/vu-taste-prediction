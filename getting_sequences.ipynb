{
 "cells": [
  {
   "cell_type": "code",
   "execution_count": 1,
   "id": "1b04c41f",
   "metadata": {},
   "outputs": [],
   "source": [
    "import pandas as pd\n",
    "from rdkit import Chem\n",
    "from rdkit.Chem import AllChem"
   ]
  },
  {
   "cell_type": "code",
   "execution_count": 2,
   "id": "17cf22f3",
   "metadata": {},
   "outputs": [],
   "source": [
    "amino_acids = {\n",
    "    \"G\": \"NCC(=O)\",         # Gly\n",
    "    \"A\": \"NC(C)C(=O)\",      # Ala\n",
    "    \"V\": \"NC(C(C)C)C(=O)\",  # Val\n",
    "    \"L\": \"NC(CC(C)C)C(=O)\", # Leu\n",
    "    \"I\": \"NC(C(C)CC)C(=O)\", # Ile\n",
    "    \"S\": \"NC(CO)C(=O)\",     # Ser\n",
    "    \"T\": \"NC(C(O)C)C(=O)\",  # Thr\n",
    "    \"D\": \"NC(CC(=O)O)C(=O)\",# Asp\n",
    "    \"E\": \"NC(CCC(=O)O)C(=O)\",# Glu\n",
    "    \"N\": \"NC(CC(N)=O)C(=O)\",# Asn\n",
    "    \"Q\": \"NC(CCC(N)=O)C(=O)\",# Gln\n",
    "    \"K\": \"NC(CCCCN)C(=O)\",  # Lys\n",
    "    \"R\": \"NC(CCCNC(N)=N)C(=O)\",# Arg\n",
    "    \"H\": \"NC(Cc1c[nH]cn1)C(=O)\",# His\n",
    "    \"F\": \"NC(Cc1ccccc1)C(=O)\",# Phe\n",
    "    \"Y\": \"NC(Cc1ccc(O)cc1)C(=O)\",# Tyr\n",
    "    \"W\": \"NC(Cc1c2ccccc2[nH]1)C(=O)\",# Trp\n",
    "    \"P\": \"N1CCCC1C(=O)\",    # Pro\n",
    "    \"M\": \"NC(CCSC)C(=O)\",   # Met\n",
    "    \"C\": \"NC(CS)C(=O)\",     # Cys\n",
    "}\n",
    "\n",
    "aa_smarts_to_code = {Chem.MolFromSmarts(v): k for k, v in amino_acids.items()}"
   ]
  },
  {
   "cell_type": "code",
   "execution_count": 3,
   "id": "f10daca4",
   "metadata": {},
   "outputs": [],
   "source": [
    "def smiles_to_sequence(smiles):\n",
    "    mol = Chem.MolFromSmiles(smiles)\n",
    "    if mol is None:\n",
    "        return None\n",
    "    \n",
    "    matches = []\n",
    "    for patt, code in aa_smarts_to_code.items():\n",
    "        substructs = mol.GetSubstructMatches(patt)\n",
    "        for match in substructs:\n",
    "            matches.append((match[0], code))  # (atom_idx, AA code)\n",
    "    \n",
    "    if not matches:\n",
    "        return None\n",
    "\n",
    "    # Sort by atom index (N-terminal to C-terminal)\n",
    "    matches = sorted(matches, key=lambda x: x[0])\n",
    "    seq = ''.join([code for _, code in matches])\n",
    "    return seq\n"
   ]
  },
  {
   "cell_type": "code",
   "execution_count": 4,
   "id": "947eab4f",
   "metadata": {},
   "outputs": [],
   "source": [
    "df = pd.read_csv(\"identified_peptides.csv\")\n",
    "df['sequence'] = df['canonical SMILES'].apply(smiles_to_sequence)\n",
    "df = df[df['sequence'].notnull()]\n",
    "df.to_csv(\"identified_peptides_with_sequences.csv\", index=False)"
   ]
  }
 ],
 "metadata": {
  "kernelspec": {
   "display_name": "Python 3",
   "language": "python",
   "name": "python3"
  },
  "language_info": {
   "codemirror_mode": {
    "name": "ipython",
    "version": 3
   },
   "file_extension": ".py",
   "mimetype": "text/x-python",
   "name": "python",
   "nbconvert_exporter": "python",
   "pygments_lexer": "ipython3",
   "version": "3.8.10"
  }
 },
 "nbformat": 4,
 "nbformat_minor": 5
}

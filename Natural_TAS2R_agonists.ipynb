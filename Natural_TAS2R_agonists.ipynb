{
 "cells": [
  {
   "cell_type": "code",
   "execution_count": 1,
   "metadata": {},
   "outputs": [],
   "source": [
    "import pandas as pd\n"
   ]
  },
  {
   "cell_type": "code",
   "execution_count": 2,
   "metadata": {},
   "outputs": [],
   "source": [
    "df = pd.read_excel('/home/natalka/vu-taste-prediction/TAS2R.xlsx')"
   ]
  },
  {
   "cell_type": "code",
   "execution_count": 3,
   "metadata": {},
   "outputs": [
    {
     "name": "stdout",
     "output_type": "stream",
     "text": [
      "                    Unnamed: 0              Unnamed: 1  \\\n",
      "0                        Names  classified as food (f)   \n",
      "1              (-)-Epicatechin                       f   \n",
      "2                (-)-α-thujone                       f   \n",
      "3                    Absinthin                       f   \n",
      "4  Allyl Isothiocyanate (AITC)                       f   \n",
      "\n",
      "                    Unnamed: 2  \\\n",
      "0  Tested vs. all TAS2Rs [y/n]   \n",
      "1                            y   \n",
      "2                            y   \n",
      "3                            y   \n",
      "4                            y   \n",
      "\n",
      "                                          Unnamed: 3  \\\n",
      "0                                         Dataset(s)   \n",
      "1  food TAS2R agonists, food all-TAS2R-tested ago...   \n",
      "2  food TAS2R agonists, food all-TAS2R-tested ago...   \n",
      "3  food TAS2R agonists, food all-TAS2R-tested ago...   \n",
      "4  food TAS2R agonists, food all-TAS2R-tested ago...   \n",
      "\n",
      "                                          Unnamed: 4  \\\n",
      "0                                   Canonical SMILES   \n",
      "1      C1C(C(OC2=CC(=CC(=C21)O)O)C3=CC(=C(C=C3)O)O)O   \n",
      "2                               CC1C2CC2(CC1=O)C(C)C   \n",
      "3  CC1C2CCC(C3C4C5C=C(C6(C4C(=C3C2OC1=O)C)C5C(CCC...   \n",
      "4                                          C=CCN=C=S   \n",
      "\n",
      "                    Unnamed: 5  Unnamed: 6 EC50 (μM) vs. T2Rs Unnamed: 8  \\\n",
      "0                     INCHIKEY  CAS number                  1          3   \n",
      "1  PFTAWBLQPZVEMU-UKRRQHHQSA-N  35323-91-2                  -          -   \n",
      "2  USMNOWBWPHYOEA-MRTMQBJTSA-N    546-80-5                  -          -   \n",
      "3  PZHWYURJZAPXAN-ILOFNVQHSA-N   1362-42-1                  -          -   \n",
      "4  ZOJBYZNEUISWFT-UHFFFAOYSA-N      7 06 7                  -          -   \n",
      "\n",
      "  Unnamed: 9  ... Unnamed: 50 Unnamed: 51 Unnamed: 52 Unnamed: 53 Unnamed: 54  \\\n",
      "0          4  ...          41          42          43          45          46   \n",
      "1          x  ...           -           -           -           -           -   \n",
      "2          -  ...           -           -           -           -           -   \n",
      "3          -  ...           -           -           -           -           1   \n",
      "4          -  ...           -           -           -           -           -   \n",
      "\n",
      "  Unnamed: 55 Unnamed: 56 Unnamed: 57 Unnamed: 58  \\\n",
      "0          50          60    min conc    max conc   \n",
      "1           -           -         NaN         NaN   \n",
      "2           -           -         NaN         300   \n",
      "3           -           -         NaN         100   \n",
      "4           -           -         NaN         300   \n",
      "\n",
      "                                          References  \n",
      "0                                                NaN  \n",
      "1  https://doi.org/10.1021/jf304198k; https://doi...  \n",
      "2  https://doi.org/10.1093/chemse/bjp092; https:/...  \n",
      "3              https://doi.org/10.1093/chemse/bjp092  \n",
      "4              https://doi.org/10.1093/chemse/bjp092  \n",
      "\n",
      "[5 rows x 60 columns]\n"
     ]
    }
   ],
   "source": [
    "print(df.head())"
   ]
  },
  {
   "cell_type": "code",
   "execution_count": 4,
   "metadata": {},
   "outputs": [],
   "source": [
    "df = df.iloc[:, [0, 4, 6, 59]]\n",
    "df = df.iloc[1:]\n",
    "df.columns = ['names', 'canonical smiles', 'cas number', 'source']"
   ]
  },
  {
   "cell_type": "code",
   "execution_count": 5,
   "metadata": {},
   "outputs": [
    {
     "name": "stdout",
     "output_type": "stream",
     "text": [
      "                         names  \\\n",
      "1              (-)-Epicatechin   \n",
      "2                (-)-α-thujone   \n",
      "3                    Absinthin   \n",
      "4  Allyl Isothiocyanate (AITC)   \n",
      "5                  Amarogentin   \n",
      "\n",
      "                                    canonical smiles  cas number  \\\n",
      "1      C1C(C(OC2=CC(=CC(=C21)O)O)C3=CC(=C(C=C3)O)O)O  35323-91-2   \n",
      "2                               CC1C2CC2(CC1=O)C(C)C    546-80-5   \n",
      "3  CC1C2CCC(C3C4C5C=C(C6(C4C(=C3C2OC1=O)C)C5C(CCC...   1362-42-1   \n",
      "4                                          C=CCN=C=S      7 06 7   \n",
      "5  C=CC1C2CCOC(=O)C2=COC1OC3C(C(C(C(O3)CO)O)O)OC(...  21018-84-8   \n",
      "\n",
      "                                              source  \n",
      "1  https://doi.org/10.1021/jf304198k; https://doi...  \n",
      "2  https://doi.org/10.1093/chemse/bjp092; https:/...  \n",
      "3              https://doi.org/10.1093/chemse/bjp092  \n",
      "4              https://doi.org/10.1093/chemse/bjp092  \n",
      "5              https://doi.org/10.1093/chemse/bjp092  \n"
     ]
    }
   ],
   "source": [
    "print(df.head())"
   ]
  }
 ],
 "metadata": {
  "kernelspec": {
   "display_name": "Python 3",
   "language": "python",
   "name": "python3"
  },
  "language_info": {
   "codemirror_mode": {
    "name": "ipython",
    "version": 3
   },
   "file_extension": ".py",
   "mimetype": "text/x-python",
   "name": "python",
   "nbconvert_exporter": "python",
   "pygments_lexer": "ipython3",
   "version": "3.8.10"
  }
 },
 "nbformat": 4,
 "nbformat_minor": 2
}

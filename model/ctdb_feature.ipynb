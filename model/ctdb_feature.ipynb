{
 "cells": [
  {
   "cell_type": "code",
   "execution_count": 37,
   "id": "d674c0a8",
   "metadata": {},
   "outputs": [],
   "source": [
    "import math\n",
    "import matplotlib.pyplot as plt\n",
    "import numpy as np\n",
    "import pandas as pd\n",
    "from rdkit import Chem\n",
    "from rdkit.Chem import Descriptors, rdMolDescriptors, SaltRemover\n",
    "from sklearn.feature_selection import VarianceThreshold"
   ]
  },
  {
   "cell_type": "code",
   "execution_count": 38,
   "id": "2baa322e",
   "metadata": {},
   "outputs": [],
   "source": [
    "df = pd.read_csv(\"../data/chemtastes_nonpep.csv\")"
   ]
  },
  {
   "cell_type": "code",
   "execution_count": 21,
   "id": "27529e65",
   "metadata": {},
   "outputs": [],
   "source": [
    "grouped = df.groupby([\"class\", \"taste\"]).size().reset_index(name=\"count\")"
   ]
  },
  {
   "cell_type": "code",
   "execution_count": 4,
   "id": "bd9a1570",
   "metadata": {},
   "outputs": [],
   "source": [
    "bitter = grouped[grouped['taste'] == \"Bitterness\"]\n",
    "bitter_top12 = bitter.sort_values(by='count', ascending=False).head(12)\n",
    "sweet = grouped[grouped['taste'] == \"Sweetness\"]\n",
    "sweet_top12 = sweet.sort_values(by='count', ascending=False).head(12)\n",
    "other = grouped[grouped['taste'] == \"Other\"]\n",
    "other_top12 = other.sort_values(by='count', ascending=False).head(12)"
   ]
  },
  {
   "cell_type": "code",
   "execution_count": null,
   "id": "e5ecf5e1",
   "metadata": {},
   "outputs": [],
   "source": [
    "def plot_radar(top12):\n",
    "    total_count = df.shape[0]\n",
    "    top12[\"proportion\"] = top12[\"count\"] / total_count\n",
    "\n",
    "    max_proportion = top12[\"proportion\"].max()\n",
    "\n",
    "    categories = top12[\"class\"].tolist()\n",
    "    N = len(categories)\n",
    "    angles = [n / float(N) * 2 * math.pi for n in range(N)]\n",
    "    angles += angles[:1]\n",
    "\n",
    "    ax = plt.subplot(111, polar=True)\n",
    "\n",
    "    values = top12[\"proportion\"].tolist()\n",
    "    values += values[:1]\n",
    "\n",
    "    plt.xticks(angles[:-1], categories)\n",
    "\n",
    "    y_max = max_proportion * 1.2\n",
    "    yticks = np.linspace(0, y_max, 4)\n",
    "    ytick_labels = [f\"{int(tick * 100)}%\" for tick in yticks]\n",
    "    plt.yticks(yticks, ytick_labels, color=\"grey\")\n",
    "    plt.ylim(0, y_max)\n",
    "\n",
    "    ax.plot(angles, values, linewidth=0.7, color=\"green\")\n",
    "    ax.grid(alpha=0.5)\n",
    "\n",
    "    plt.savefig(\"other.png\", transparent=True)\n",
    "    plt.show()"
   ]
  },
  {
   "cell_type": "code",
   "execution_count": null,
   "id": "0b7652f6",
   "metadata": {},
   "outputs": [],
   "source": [
    "plot_radar(other_top12)"
   ]
  },
  {
   "cell_type": "code",
   "execution_count": 39,
   "id": "31257819",
   "metadata": {},
   "outputs": [
    {
     "data": {
      "text/html": [
       "<div>\n",
       "<style scoped>\n",
       "    .dataframe tbody tr th:only-of-type {\n",
       "        vertical-align: middle;\n",
       "    }\n",
       "\n",
       "    .dataframe tbody tr th {\n",
       "        vertical-align: top;\n",
       "    }\n",
       "\n",
       "    .dataframe thead th {\n",
       "        text-align: right;\n",
       "    }\n",
       "</style>\n",
       "<table border=\"1\" class=\"dataframe\">\n",
       "  <thead>\n",
       "    <tr style=\"text-align: right;\">\n",
       "      <th></th>\n",
       "      <th>smiles</th>\n",
       "      <th>taste</th>\n",
       "      <th>superclass</th>\n",
       "      <th>class</th>\n",
       "      <th>subclass</th>\n",
       "    </tr>\n",
       "  </thead>\n",
       "  <tbody>\n",
       "    <tr>\n",
       "      <th>0</th>\n",
       "      <td>Oc1cc2c(cc1O)C1c3ccc(c(c3OCC1(O)C2)O)O</td>\n",
       "      <td>Sweetness</td>\n",
       "      <td>Organoheterocyclic compounds</td>\n",
       "      <td>Benzopyrans</td>\n",
       "      <td>1-benzopyrans</td>\n",
       "    </tr>\n",
       "    <tr>\n",
       "      <th>1</th>\n",
       "      <td>CC(C)=CCCC(C)(O)C1CC(O)C(=CC1=O)C</td>\n",
       "      <td>Sweetness</td>\n",
       "      <td>Lipids and lipid-like molecules</td>\n",
       "      <td>Prenol lipids</td>\n",
       "      <td>Sesquiterpenoids</td>\n",
       "    </tr>\n",
       "    <tr>\n",
       "      <th>2</th>\n",
       "      <td>CC(=O)OC1C(Oc2cc(cc(c2C1=O)O)O)c1ccc(c(c1)O)O</td>\n",
       "      <td>Sweetness</td>\n",
       "      <td>Phenylpropanoids and polyketides</td>\n",
       "      <td>Flavonoids</td>\n",
       "      <td>Flavans</td>\n",
       "    </tr>\n",
       "    <tr>\n",
       "      <th>3</th>\n",
       "      <td>COc1c(cc2c(c1O)C(=O)C(OC(C)=O)C(O2)c1ccc(c(c1)...</td>\n",
       "      <td>Sweetness</td>\n",
       "      <td>Phenylpropanoids and polyketides</td>\n",
       "      <td>Flavonoids</td>\n",
       "      <td>O-methylated flavonoids</td>\n",
       "    </tr>\n",
       "    <tr>\n",
       "      <th>4</th>\n",
       "      <td>COc1ccc(cc1O)C1Cc2cccc(c2C(=O)O1)OC1OC(CO)C(O)...</td>\n",
       "      <td>Sweetness</td>\n",
       "      <td>Organic oxygen compounds</td>\n",
       "      <td>Organooxygen compounds</td>\n",
       "      <td>Carbohydrates and carbohydrate conjugates</td>\n",
       "    </tr>\n",
       "    <tr>\n",
       "      <th>...</th>\n",
       "      <td>...</td>\n",
       "      <td>...</td>\n",
       "      <td>...</td>\n",
       "      <td>...</td>\n",
       "      <td>...</td>\n",
       "    </tr>\n",
       "    <tr>\n",
       "      <th>2979</th>\n",
       "      <td>CC(CCC(O)C(C)(C)O)C1CCC2(C)C3CC=C4C(CCC(O)C4(C...</td>\n",
       "      <td>Non-bitterness</td>\n",
       "      <td>Lipids and lipid-like molecules</td>\n",
       "      <td>Steroids and steroid derivatives</td>\n",
       "      <td>Cucurbitacins</td>\n",
       "    </tr>\n",
       "    <tr>\n",
       "      <th>2980</th>\n",
       "      <td>OCC(O)C(O)C(=O)CO</td>\n",
       "      <td>Non-bitterness</td>\n",
       "      <td>Organic oxygen compounds</td>\n",
       "      <td>Organooxygen compounds</td>\n",
       "      <td>Carbohydrates and carbohydrate conjugates</td>\n",
       "    </tr>\n",
       "    <tr>\n",
       "      <th>2981</th>\n",
       "      <td>CC1OC(C)C(OS(O)(=O)=O)C(O)C1O</td>\n",
       "      <td>Non-bitterness</td>\n",
       "      <td>Organoheterocyclic compounds</td>\n",
       "      <td>Oxanes</td>\n",
       "      <td>Unknown</td>\n",
       "    </tr>\n",
       "    <tr>\n",
       "      <th>2982</th>\n",
       "      <td>CC(=O)OC(C)(C)C1Cc2cc3c(cc2O1)OC(=O)C(=C3)C(C)...</td>\n",
       "      <td>Non-bitterness</td>\n",
       "      <td>Phenylpropanoids and polyketides</td>\n",
       "      <td>Coumarins and derivatives</td>\n",
       "      <td>Furanocoumarins</td>\n",
       "    </tr>\n",
       "    <tr>\n",
       "      <th>2983</th>\n",
       "      <td>OCC(O)C(O)C(O)C(O)C(O)CO</td>\n",
       "      <td>Non-bitterness</td>\n",
       "      <td>Organic oxygen compounds</td>\n",
       "      <td>Organooxygen compounds</td>\n",
       "      <td>Carbohydrates and carbohydrate conjugates</td>\n",
       "    </tr>\n",
       "  </tbody>\n",
       "</table>\n",
       "<p>2984 rows × 5 columns</p>\n",
       "</div>"
      ],
      "text/plain": [
       "                                                 smiles           taste  \\\n",
       "0                Oc1cc2c(cc1O)C1c3ccc(c(c3OCC1(O)C2)O)O       Sweetness   \n",
       "1                     CC(C)=CCCC(C)(O)C1CC(O)C(=CC1=O)C       Sweetness   \n",
       "2         CC(=O)OC1C(Oc2cc(cc(c2C1=O)O)O)c1ccc(c(c1)O)O       Sweetness   \n",
       "3     COc1c(cc2c(c1O)C(=O)C(OC(C)=O)C(O2)c1ccc(c(c1)...       Sweetness   \n",
       "4     COc1ccc(cc1O)C1Cc2cccc(c2C(=O)O1)OC1OC(CO)C(O)...       Sweetness   \n",
       "...                                                 ...             ...   \n",
       "2979  CC(CCC(O)C(C)(C)O)C1CCC2(C)C3CC=C4C(CCC(O)C4(C...  Non-bitterness   \n",
       "2980                                  OCC(O)C(O)C(=O)CO  Non-bitterness   \n",
       "2981                      CC1OC(C)C(OS(O)(=O)=O)C(O)C1O  Non-bitterness   \n",
       "2982  CC(=O)OC(C)(C)C1Cc2cc3c(cc2O1)OC(=O)C(=C3)C(C)...  Non-bitterness   \n",
       "2983                           OCC(O)C(O)C(O)C(O)C(O)CO  Non-bitterness   \n",
       "\n",
       "                            superclass                             class  \\\n",
       "0         Organoheterocyclic compounds                       Benzopyrans   \n",
       "1      Lipids and lipid-like molecules                     Prenol lipids   \n",
       "2     Phenylpropanoids and polyketides                        Flavonoids   \n",
       "3     Phenylpropanoids and polyketides                        Flavonoids   \n",
       "4             Organic oxygen compounds            Organooxygen compounds   \n",
       "...                                ...                               ...   \n",
       "2979   Lipids and lipid-like molecules  Steroids and steroid derivatives   \n",
       "2980          Organic oxygen compounds            Organooxygen compounds   \n",
       "2981      Organoheterocyclic compounds                            Oxanes   \n",
       "2982  Phenylpropanoids and polyketides         Coumarins and derivatives   \n",
       "2983          Organic oxygen compounds            Organooxygen compounds   \n",
       "\n",
       "                                       subclass  \n",
       "0                                 1-benzopyrans  \n",
       "1                              Sesquiterpenoids  \n",
       "2                                       Flavans  \n",
       "3                       O-methylated flavonoids  \n",
       "4     Carbohydrates and carbohydrate conjugates  \n",
       "...                                         ...  \n",
       "2979                              Cucurbitacins  \n",
       "2980  Carbohydrates and carbohydrate conjugates  \n",
       "2981                                    Unknown  \n",
       "2982                            Furanocoumarins  \n",
       "2983  Carbohydrates and carbohydrate conjugates  \n",
       "\n",
       "[2984 rows x 5 columns]"
      ]
     },
     "execution_count": 39,
     "metadata": {},
     "output_type": "execute_result"
    }
   ],
   "source": [
    "df"
   ]
  },
  {
   "cell_type": "code",
   "execution_count": 55,
   "id": "93210265",
   "metadata": {},
   "outputs": [],
   "source": [
    "mols = df[\"smiles\"].apply(Chem.MolFromSmiles)\n",
    "descs_df = pd.DataFrame([Descriptors.CalcMolDescriptors(mol) for mol in mols])"
   ]
  },
  {
   "cell_type": "code",
   "execution_count": 59,
   "id": "5cab4409",
   "metadata": {},
   "outputs": [],
   "source": [
    "# Ipc is a 3D descriptor that would cause issues for some large molecules\n",
    "descs_df.drop(columns=\"Ipc\", inplace=True)"
   ]
  },
  {
   "cell_type": "code",
   "execution_count": 60,
   "id": "e96ee337",
   "metadata": {},
   "outputs": [
    {
     "data": {
      "text/plain": [
       "(2984, 216)"
      ]
     },
     "execution_count": 60,
     "metadata": {},
     "output_type": "execute_result"
    }
   ],
   "source": [
    "descs_df.shape"
   ]
  },
  {
   "cell_type": "code",
   "execution_count": 25,
   "id": "3aa0c131",
   "metadata": {},
   "outputs": [],
   "source": [
    "def dump(content):\n",
    "    with open(\"../missing.txt\", \"w\") as f:\n",
    "        f.write(content)"
   ]
  },
  {
   "cell_type": "markdown",
   "id": "2a20db31",
   "metadata": {},
   "source": [
    "# Imputation of BCUT2D descriptors"
   ]
  },
  {
   "cell_type": "code",
   "execution_count": 61,
   "id": "ad43ffdc",
   "metadata": {},
   "outputs": [
    {
     "data": {
      "text/plain": [
       "7       [Na+].NC(CC(O)(CC1=CNc2ccccc12)C(O)=O)C([O-])=O\n",
       "213                      [Na+].CC(C)(C)CCNS([O-])(=O)=O\n",
       "440                  [Na+].Clc1cccc2c1C(=O)[N-]S2(=O)=O\n",
       "468                   [Na+].CCC1=C(C)OS(=O)(=O)[N-]C1=O\n",
       "472                  [Na+].CC1=C(C)C(=O)[N-]S(=O)(=O)O1\n",
       "                             ...                       \n",
       "2955                        [Na+].[O-]S(=O)(=O)N1CCCCC1\n",
       "2956                    [Na+].Cc1ccc(cc1)NS([O-])(=O)=O\n",
       "2957                         [Na+].[O-]S(=O)(=O)N1CCCC1\n",
       "2958          [Na+].CC(=O)Nc1ccc2c(c1)S(=O)(=O)[N-]C2=O\n",
       "2959                        [Na+].[O-]S(=O)(=O)N1CCSCC1\n",
       "Name: smiles, Length: 427, dtype: object"
      ]
     },
     "execution_count": 61,
     "metadata": {},
     "output_type": "execute_result"
    }
   ],
   "source": [
    "impu_index = descs_df[descs_df[\"BCUT2D_MWHI\"].isna()].index\n",
    "df.iloc[impu_index][\"smiles\"]"
   ]
  },
  {
   "cell_type": "code",
   "execution_count": 62,
   "id": "342f3f47",
   "metadata": {},
   "outputs": [],
   "source": [
    "def remove_salts(smiles):\n",
    "    mol = Chem.MolFromSmiles(smiles)\n",
    "    if mol is None:\n",
    "        return None\n",
    "\n",
    "    remover = SaltRemover.SaltRemover()\n",
    "    return Chem.MolToSmiles(remover.StripMol(mol))\n",
    "\n",
    "def calc_bcut2d(smiles):\n",
    "    mol = Chem.MolFromSmiles(smiles)\n",
    "    if mol is None:\n",
    "        return None\n",
    "    \n",
    "    return rdMolDescriptors.BCUT2D(mol)"
   ]
  },
  {
   "cell_type": "code",
   "execution_count": 63,
   "id": "f034183f",
   "metadata": {},
   "outputs": [],
   "source": [
    "bcut2d_descs = df.iloc[impu_index][\"smiles\"].apply(remove_salts).apply(calc_bcut2d)\n",
    "bcut2d_cols = [\"BCUT2D_MWHI\", \"BCUT2D_MWLOW\", \"BCUT2D_CHGHI\", \"BCUT2D_CHGLO\",\n",
    "               \"BCUT2D_LOGPHI\", \"BCUT2D_LOGPLOW\", \"BCUT2D_MRHI\", \"BCUT2D_MRLOW\"]\n",
    "bcut2d_df = pd.DataFrame(bcut2d_descs.tolist(), index=impu_index, columns=bcut2d_cols)"
   ]
  },
  {
   "cell_type": "code",
   "execution_count": 64,
   "id": "c1bf3545",
   "metadata": {},
   "outputs": [],
   "source": [
    "descs_df.loc[bcut2d_df.index, bcut2d_df.columns] = bcut2d_df"
   ]
  },
  {
   "cell_type": "code",
   "execution_count": 65,
   "id": "9bb20ccf",
   "metadata": {},
   "outputs": [
    {
     "data": {
      "text/plain": [
       "np.int64(0)"
      ]
     },
     "execution_count": 65,
     "metadata": {},
     "output_type": "execute_result"
    }
   ],
   "source": [
    "descs_df.isna().sum().sum()"
   ]
  },
  {
   "cell_type": "markdown",
   "id": "9c2346fb",
   "metadata": {},
   "source": [
    "# Remove constant or near-constant descriptors"
   ]
  },
  {
   "cell_type": "code",
   "execution_count": 66,
   "id": "84f8e7fd",
   "metadata": {},
   "outputs": [],
   "source": [
    "selector = VarianceThreshold(threshold=0.001)\n",
    "filtered = selector.fit_transform(descs_df)\n",
    "retained_descs = descs_df.columns[selector.get_support()]\n",
    "vt_df = pd.DataFrame(filtered, columns=retained_descs)"
   ]
  },
  {
   "cell_type": "code",
   "execution_count": 67,
   "id": "41f0a89d",
   "metadata": {},
   "outputs": [
    {
     "data": {
      "text/plain": [
       "(2984, 198)"
      ]
     },
     "execution_count": 67,
     "metadata": {},
     "output_type": "execute_result"
    }
   ],
   "source": [
    "vt_df.shape"
   ]
  },
  {
   "cell_type": "markdown",
   "id": "9f8bb262",
   "metadata": {},
   "source": [
    "# Remove highly correlated descriptors"
   ]
  },
  {
   "cell_type": "code",
   "execution_count": 68,
   "id": "abddfd35",
   "metadata": {},
   "outputs": [],
   "source": [
    "corr_matrix = vt_df.corr().abs()"
   ]
  },
  {
   "cell_type": "code",
   "execution_count": 69,
   "id": "f91c0d21",
   "metadata": {},
   "outputs": [],
   "source": [
    "upper = corr_matrix.where(np.triu(np.ones(corr_matrix.shape), k=1).astype(bool))\n",
    "to_drop = [col for col in upper.columns if any(upper[col] > 0.9)]\n",
    "df_final = vt_df.drop(to_drop, axis=1)"
   ]
  },
  {
   "cell_type": "code",
   "execution_count": 70,
   "id": "b85f73bc",
   "metadata": {},
   "outputs": [
    {
     "data": {
      "text/plain": [
       "(2984, 127)"
      ]
     },
     "execution_count": 70,
     "metadata": {},
     "output_type": "execute_result"
    }
   ],
   "source": [
    "df_final.shape"
   ]
  },
  {
   "cell_type": "code",
   "execution_count": 71,
   "id": "cd6da330",
   "metadata": {},
   "outputs": [],
   "source": [
    "pd.concat([df, df_final], axis=1).to_csv(\"../data/chemtastes_features_nonpep.csv\", index=False)"
   ]
  }
 ],
 "metadata": {
  "kernelspec": {
   "display_name": "bioinfo",
   "language": "python",
   "name": "python3"
  },
  "language_info": {
   "codemirror_mode": {
    "name": "ipython",
    "version": 3
   },
   "file_extension": ".py",
   "mimetype": "text/x-python",
   "name": "python",
   "nbconvert_exporter": "python",
   "pygments_lexer": "ipython3",
   "version": "3.13.2"
  }
 },
 "nbformat": 4,
 "nbformat_minor": 5
}

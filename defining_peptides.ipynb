{
 "cells": [
  {
   "cell_type": "code",
   "execution_count": 11,
   "id": "b487216f",
   "metadata": {},
   "outputs": [],
   "source": [
    "import pandas as pd\n",
    "from rdkit import Chem\n",
    "from rdkit.Chem import Descriptors, rdmolops"
   ]
  },
  {
   "cell_type": "code",
   "execution_count": 12,
   "id": "e245b84c",
   "metadata": {},
   "outputs": [],
   "source": [
    "chemtastesdb_df = pd.read_excel(\"ChemTastesDB_database.xlsx\",\n",
    "                               na_values=[\"*\"],\n",
    "                               keep_default_na=True)\n",
    "chemtastesdb_df = chemtastesdb_df.iloc[:-3][[\"Name\", \"canonical SMILES\", \"Class taste\"]]"
   ]
  },
  {
   "cell_type": "code",
   "execution_count": 13,
   "id": "b107e7cf",
   "metadata": {},
   "outputs": [
    {
     "data": {
      "text/html": [
       "<div>\n",
       "<style scoped>\n",
       "    .dataframe tbody tr th:only-of-type {\n",
       "        vertical-align: middle;\n",
       "    }\n",
       "\n",
       "    .dataframe tbody tr th {\n",
       "        vertical-align: top;\n",
       "    }\n",
       "\n",
       "    .dataframe thead th {\n",
       "        text-align: right;\n",
       "    }\n",
       "</style>\n",
       "<table border=\"1\" class=\"dataframe\">\n",
       "  <thead>\n",
       "    <tr style=\"text-align: right;\">\n",
       "      <th></th>\n",
       "      <th>Name</th>\n",
       "      <th>canonical SMILES</th>\n",
       "      <th>Class taste</th>\n",
       "    </tr>\n",
       "  </thead>\n",
       "  <tbody>\n",
       "    <tr>\n",
       "      <th>0</th>\n",
       "      <td>(-)-Haematoxylin</td>\n",
       "      <td>Oc1cc2c(cc1O)C1c3ccc(c(c3OCC1(O)C2)O)O</td>\n",
       "      <td>Sweetness</td>\n",
       "    </tr>\n",
       "    <tr>\n",
       "      <th>1</th>\n",
       "      <td>(+)-4β-hydroxyhernandulcin</td>\n",
       "      <td>CC(C)=CCCC(C)(O)C1CC(O)C(=CC1=O)C</td>\n",
       "      <td>Sweetness</td>\n",
       "    </tr>\n",
       "    <tr>\n",
       "      <th>2</th>\n",
       "      <td>(+)-Dihydroquercetin 3-acetate</td>\n",
       "      <td>CC(=O)OC1C(Oc2cc(cc(c2C1=O)O)O)c1ccc(c(c1)O)O</td>\n",
       "      <td>Sweetness</td>\n",
       "    </tr>\n",
       "    <tr>\n",
       "      <th>3</th>\n",
       "      <td>(+)-Dihydro-6-methoxy-luteolin 3-acetate</td>\n",
       "      <td>COc1c(cc2c(c1O)C(=O)C(OC(C)=O)C(O2)c1ccc(c(c1)...</td>\n",
       "      <td>Sweetness</td>\n",
       "    </tr>\n",
       "    <tr>\n",
       "      <th>4</th>\n",
       "      <td>(+)-Haematoxylin</td>\n",
       "      <td>Oc1cc2c(cc1O)C1c3ccc(c(c3OCC1(O)C2)O)O</td>\n",
       "      <td>Sweetness</td>\n",
       "    </tr>\n",
       "  </tbody>\n",
       "</table>\n",
       "</div>"
      ],
      "text/plain": [
       "                                       Name  \\\n",
       "0                          (-)-Haematoxylin   \n",
       "1                (+)-4β-hydroxyhernandulcin   \n",
       "2            (+)-Dihydroquercetin 3-acetate   \n",
       "3  (+)-Dihydro-6-methoxy-luteolin 3-acetate   \n",
       "4                          (+)-Haematoxylin   \n",
       "\n",
       "                                    canonical SMILES Class taste  \n",
       "0             Oc1cc2c(cc1O)C1c3ccc(c(c3OCC1(O)C2)O)O   Sweetness  \n",
       "1                  CC(C)=CCCC(C)(O)C1CC(O)C(=CC1=O)C   Sweetness  \n",
       "2      CC(=O)OC1C(Oc2cc(cc(c2C1=O)O)O)c1ccc(c(c1)O)O   Sweetness  \n",
       "3  COc1c(cc2c(c1O)C(=O)C(OC(C)=O)C(O2)c1ccc(c(c1)...   Sweetness  \n",
       "4             Oc1cc2c(cc1O)C1c3ccc(c(c3OCC1(O)C2)O)O   Sweetness  "
      ]
     },
     "execution_count": 13,
     "metadata": {},
     "output_type": "execute_result"
    }
   ],
   "source": [
    "chemtastesdb_df.head()"
   ]
  },
  {
   "cell_type": "code",
   "execution_count": 14,
   "id": "4c58ea26",
   "metadata": {},
   "outputs": [],
   "source": [
    "def count_peptide_bonds(mol):\n",
    "    peptide_smarts = \"[NX3;H1,H2][CH1,CH2][CX3](=O)[NX3;H1,H2]\"\n",
    "    patt = Chem.MolFromSmarts(peptide_smarts)\n",
    "    return len(mol.GetSubstructMatches(patt))"
   ]
  },
  {
   "cell_type": "code",
   "execution_count": 15,
   "id": "61b6257b",
   "metadata": {},
   "outputs": [
    {
     "data": {
      "text/html": [
       "<div>\n",
       "<style scoped>\n",
       "    .dataframe tbody tr th:only-of-type {\n",
       "        vertical-align: middle;\n",
       "    }\n",
       "\n",
       "    .dataframe tbody tr th {\n",
       "        vertical-align: top;\n",
       "    }\n",
       "\n",
       "    .dataframe thead th {\n",
       "        text-align: right;\n",
       "    }\n",
       "</style>\n",
       "<table border=\"1\" class=\"dataframe\">\n",
       "  <thead>\n",
       "    <tr style=\"text-align: right;\">\n",
       "      <th></th>\n",
       "      <th>Name</th>\n",
       "      <th>canonical SMILES</th>\n",
       "      <th>Class taste</th>\n",
       "    </tr>\n",
       "  </thead>\n",
       "  <tbody>\n",
       "    <tr>\n",
       "      <th>19</th>\n",
       "      <td>(S)-Aspartyl-(7,7-dimethylnorborn-2R-yl)-(S)-a...</td>\n",
       "      <td>COC(=O)C(CC1CC2CCC1C2)NC(=O)C(N)CC(O)=O</td>\n",
       "      <td>Sweetness</td>\n",
       "    </tr>\n",
       "    <tr>\n",
       "      <th>20</th>\n",
       "      <td>(S)-Aspartyl-(7,7-dimethylnorborn-2S-yl)-(S)-a...</td>\n",
       "      <td>COC(=O)C(CC1CC2CCC1C2)NC(=O)C(N)CC(O)=O</td>\n",
       "      <td>Sweetness</td>\n",
       "    </tr>\n",
       "    <tr>\n",
       "      <th>22</th>\n",
       "      <td>[L-(αMe)Phe]2-aspartame</td>\n",
       "      <td>COC(=O)C(C)(Cc1ccccc1)NC(=O)C(N)CC(O)=O</td>\n",
       "      <td>Sweetness</td>\n",
       "    </tr>\n",
       "    <tr>\n",
       "      <th>188</th>\n",
       "      <td>2-Amino-2-{[1-oxo-1-(propan-2-yloxy)propan-2-y...</td>\n",
       "      <td>CC(C)OC(=O)C(C)NC(=O)C(N)C(O)=O</td>\n",
       "      <td>Sweetness</td>\n",
       "    </tr>\n",
       "    <tr>\n",
       "      <th>207</th>\n",
       "      <td>3-({[(4-cyanophenyl)amino]methyl}amino)-3-[(1-...</td>\n",
       "      <td>COC(=O)C(Cc1ccccc1)NC(=O)C(CC(O)=O)NCNc1ccc(cc...</td>\n",
       "      <td>Sweetness</td>\n",
       "    </tr>\n",
       "  </tbody>\n",
       "</table>\n",
       "</div>"
      ],
      "text/plain": [
       "                                                  Name  \\\n",
       "19   (S)-Aspartyl-(7,7-dimethylnorborn-2R-yl)-(S)-a...   \n",
       "20   (S)-Aspartyl-(7,7-dimethylnorborn-2S-yl)-(S)-a...   \n",
       "22                             [L-(αMe)Phe]2-aspartame   \n",
       "188  2-Amino-2-{[1-oxo-1-(propan-2-yloxy)propan-2-y...   \n",
       "207  3-({[(4-cyanophenyl)amino]methyl}amino)-3-[(1-...   \n",
       "\n",
       "                                      canonical SMILES Class taste  \n",
       "19             COC(=O)C(CC1CC2CCC1C2)NC(=O)C(N)CC(O)=O   Sweetness  \n",
       "20             COC(=O)C(CC1CC2CCC1C2)NC(=O)C(N)CC(O)=O   Sweetness  \n",
       "22             COC(=O)C(C)(Cc1ccccc1)NC(=O)C(N)CC(O)=O   Sweetness  \n",
       "188                    CC(C)OC(=O)C(C)NC(=O)C(N)C(O)=O   Sweetness  \n",
       "207  COC(=O)C(Cc1ccccc1)NC(=O)C(CC(O)=O)NCNc1ccc(cc...   Sweetness  "
      ]
     },
     "execution_count": 15,
     "metadata": {},
     "output_type": "execute_result"
    }
   ],
   "source": [
    "def count_amide_bonds(smiles):\n",
    "    mol = Chem.MolFromSmiles(smiles)\n",
    "    if mol is None:\n",
    "        return 0\n",
    "    \n",
    "    amide_bond = Chem.MolFromSmarts(\"C(=O)N\")\n",
    "    matches = mol.GetSubstructMatches(amide_bond)\n",
    "    return len(matches)\n",
    "\n",
    "def is_peptide(smiles):\n",
    "    mol = Chem.MolFromSmiles(smiles)\n",
    "    if mol is None:\n",
    "        return False\n",
    "\n",
    "    if Descriptors.MolWt(mol) >= 500:\n",
    "        return False\n",
    "\n",
    "    n_peptide = count_peptide_bonds(mol)\n",
    "    if n_peptide < 1:\n",
    "        return False\n",
    "\n",
    "    return True\n",
    "\n",
    "chemtastesdb_df['is_peptide'] = chemtastesdb_df['canonical SMILES'].apply(is_peptide)\n",
    "peptides_df = chemtastesdb_df[chemtastesdb_df['is_peptide']].copy()\n",
    "\n",
    "peptides_df[['Name', 'canonical SMILES', 'Class taste']].head()"
   ]
  },
  {
   "cell_type": "code",
   "execution_count": 16,
   "id": "18f4d7a7",
   "metadata": {},
   "outputs": [],
   "source": [
    "peptides_df.to_csv(\"identified_peptides.csv\", index=False)"
   ]
  },
  {
   "cell_type": "code",
   "execution_count": 17,
   "id": "ae481dcd",
   "metadata": {},
   "outputs": [],
   "source": [
    "def get_taste_label(val):\n",
    "    if isinstance(val, str):\n",
    "        return val.strip().capitalize()\n",
    "    return None\n",
    "\n",
    "peptides_df['normalized_taste'] = peptides_df['Class taste'].apply(get_taste_label)"
   ]
  },
  {
   "cell_type": "code",
   "execution_count": 18,
   "id": "45e46c7a",
   "metadata": {},
   "outputs": [
    {
     "name": "stdout",
     "output_type": "stream",
     "text": [
      "                                                  Name  \\\n",
      "19   (S)-Aspartyl-(7,7-dimethylnorborn-2R-yl)-(S)-a...   \n",
      "20   (S)-Aspartyl-(7,7-dimethylnorborn-2S-yl)-(S)-a...   \n",
      "22                             [L-(αMe)Phe]2-aspartame   \n",
      "188  2-Amino-2-{[1-oxo-1-(propan-2-yloxy)propan-2-y...   \n",
      "207  3-({[(4-cyanophenyl)amino]methyl}amino)-3-[(1-...   \n",
      "\n",
      "                                      canonical SMILES Class taste  \\\n",
      "19             COC(=O)C(CC1CC2CCC1C2)NC(=O)C(N)CC(O)=O   Sweetness   \n",
      "20             COC(=O)C(CC1CC2CCC1C2)NC(=O)C(N)CC(O)=O   Sweetness   \n",
      "22             COC(=O)C(C)(Cc1ccccc1)NC(=O)C(N)CC(O)=O   Sweetness   \n",
      "188                    CC(C)OC(=O)C(C)NC(=O)C(N)C(O)=O   Sweetness   \n",
      "207  COC(=O)C(Cc1ccccc1)NC(=O)C(CC(O)=O)NCNc1ccc(cc...   Sweetness   \n",
      "\n",
      "     is_peptide normalized_taste  is_bitter is_bitter_vs_sweet  \n",
      "19         True        Sweetness      False              False  \n",
      "20         True        Sweetness      False              False  \n",
      "22         True        Sweetness      False              False  \n",
      "188        True        Sweetness      False              False  \n",
      "207        True        Sweetness      False              False  \n"
     ]
    }
   ],
   "source": [
    "peptides_df['is_bitter'] = peptides_df['normalized_taste'] == 'Bitterness'\n",
    "def bitter_vs_sweet(val):\n",
    "    if val == 'Bitterness':\n",
    "        return True\n",
    "    elif val == 'Sweetness':\n",
    "        return False\n",
    "    else:\n",
    "        return None\n",
    "peptides_df['is_bitter_vs_sweet'] = peptides_df['normalized_taste'].apply(bitter_vs_sweet)\n",
    "\n",
    "print(peptides_df.head())"
   ]
  },
  {
   "cell_type": "code",
   "execution_count": 19,
   "id": "e16ae5ad",
   "metadata": {},
   "outputs": [],
   "source": [
    "peptides_df.to_csv(\"identified_peptides.csv\", index=False)"
   ]
  },
  {
   "cell_type": "code",
   "execution_count": 20,
   "id": "858ed8f3",
   "metadata": {},
   "outputs": [],
   "source": [
    "non_peptides_df = chemtastesdb_df[~chemtastesdb_df['is_peptide']].copy()\n",
    "non_peptides_df[['Name', 'canonical SMILES', 'Class taste']].to_csv(\"non_peptides.csv\", index=False)"
   ]
  }
 ],
 "metadata": {
  "kernelspec": {
   "display_name": "Python 3",
   "language": "python",
   "name": "python3"
  },
  "language_info": {
   "codemirror_mode": {
    "name": "ipython",
    "version": 3
   },
   "file_extension": ".py",
   "mimetype": "text/x-python",
   "name": "python",
   "nbconvert_exporter": "python",
   "pygments_lexer": "ipython3",
   "version": "3.8.10"
  }
 },
 "nbformat": 4,
 "nbformat_minor": 5
}

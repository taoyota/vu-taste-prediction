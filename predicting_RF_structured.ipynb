{
 "cells": [
  {
   "cell_type": "code",
   "execution_count": 1,
   "id": "3d11dff4",
   "metadata": {},
   "outputs": [],
   "source": [
    "import pandas as pd\n",
    "import numpy as np\n",
    "from rdkit import Chem\n",
    "from rdkit.Chem import AllChem\n",
    "from sklearn.ensemble import RandomForestClassifier\n",
    "from sklearn.model_selection import train_test_split\n",
    "from sklearn.metrics import classification_report, confusion_matrix\n",
    "import seaborn as sns\n",
    "import matplotlib.pyplot as plt\n",
    "\n",
    "df = pd.read_csv('identified_peptides.csv')\n",
    "df = df.dropna(subset=[\"canonical SMILES\", \"Class taste\"])"
   ]
  },
  {
   "cell_type": "code",
   "execution_count": 2,
   "id": "21fd0820",
   "metadata": {},
   "outputs": [],
   "source": [
    "def smiles_to_morgan(smiles, radius=2, nBits=1024):\n",
    "    mol = Chem.MolFromSmiles(smiles)\n",
    "    if mol is None:\n",
    "        return None\n",
    "    return AllChem.GetMorganFingerprintAsBitVect(mol, radius, nBits)"
   ]
  },
  {
   "cell_type": "markdown",
   "id": "7adee2de",
   "metadata": {},
   "source": [
    "Bitterness vs Non-Bitterness"
   ]
  },
  {
   "cell_type": "code",
   "execution_count": null,
   "id": "d7f28ccb",
   "metadata": {},
   "outputs": [
    {
     "name": "stdout",
     "output_type": "stream",
     "text": [
      "Classification Report (Bitter vs Non-Bitter):\n",
      "              precision    recall  f1-score   support\n",
      "\n",
      "           0       0.90      0.97      0.93       117\n",
      "           1       0.89      0.65      0.75        37\n",
      "\n",
      "    accuracy                           0.90       154\n",
      "   macro avg       0.89      0.81      0.84       154\n",
      "weighted avg       0.90      0.90      0.89       154\n",
      "\n"
     ]
    }
   ],
   "source": [
    "df_bitter = df.dropna(subset=[\"is_bitter\"])\n",
    "X_bitter = df_bitter[\"canonical SMILES\"].apply(smiles_to_morgan).dropna()\n",
    "df_bitter = df_bitter.loc[X_bitter.index]\n",
    "X_bitter = np.array([np.array(fp) for fp in X_bitter])\n",
    "y_bitter = df_bitter[\"is_bitter\"].astype(int)  # 1 - bitter, 0 - sweet\n",
    "\n",
    "X_train, X_test, y_train, y_test = train_test_split(X_bitter, y_bitter, test_size=0.2, random_state=42)\n",
    "\n",
    "clf_bitter = RandomForestClassifier(n_estimators=250, random_state=42)\n",
    "clf_bitter.fit(X_train, y_train)\n",
    "\n",
    "y_pred = clf_bitter.predict(X_test)\n",
    "print(\"Classification Report (Bitter vs Non-Bitter):\")\n",
    "print(classification_report(y_test, y_pred))"
   ]
  },
  {
   "cell_type": "markdown",
   "id": "d011dce3",
   "metadata": {},
   "source": [
    "Bitterness vs Sweetness"
   ]
  },
  {
   "cell_type": "code",
   "execution_count": null,
   "id": "59222bb7",
   "metadata": {},
   "outputs": [
    {
     "name": "stdout",
     "output_type": "stream",
     "text": [
      "Classification Report (Bitter vs Sweet):\n",
      "              precision    recall  f1-score   support\n",
      "\n",
      "           0       0.96      1.00      0.98        79\n",
      "           1       1.00      0.93      0.96        41\n",
      "\n",
      "    accuracy                           0.97       120\n",
      "   macro avg       0.98      0.96      0.97       120\n",
      "weighted avg       0.98      0.97      0.97       120\n",
      "\n"
     ]
    }
   ],
   "source": [
    "df_bitter_sweet = df.dropna(subset=[\"is_bitter_vs_sweet\"])\n",
    "X_bs = df_bitter_sweet[\"canonical SMILES\"].apply(smiles_to_morgan).dropna()\n",
    "df_bitter_sweet = df_bitter_sweet.loc[X_bs.index]\n",
    "X_bs = np.array([np.array(fp) for fp in X_bs])\n",
    "y_bs = df_bitter_sweet[\"is_bitter_vs_sweet\"].astype(int)  # True/False to 1/0 1-bitter, 0 -sweet\n",
    "\n",
    "X_train_bs, X_test_bs, y_train_bs, y_test_bs = train_test_split(X_bs, y_bs, test_size=0.2, random_state=42)\n",
    "\n",
    "clf_bs = RandomForestClassifier(n_estimators=100, random_state=42)\n",
    "clf_bs.fit(X_train_bs, y_train_bs)\n",
    "\n",
    "y_pred_bs = clf_bs.predict(X_test_bs)\n",
    "print(\"Classification Report (Bitter vs Sweet):\")\n",
    "print(classification_report(y_test_bs, y_pred_bs))"
   ]
  }
 ],
 "metadata": {
  "kernelspec": {
   "display_name": "Python 3",
   "language": "python",
   "name": "python3"
  },
  "language_info": {
   "codemirror_mode": {
    "name": "ipython",
    "version": 3
   },
   "file_extension": ".py",
   "mimetype": "text/x-python",
   "name": "python",
   "nbconvert_exporter": "python",
   "pygments_lexer": "ipython3",
   "version": "3.8.10"
  }
 },
 "nbformat": 4,
 "nbformat_minor": 5
}
